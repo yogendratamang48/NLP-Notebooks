{
 "cells": [
  {
   "cell_type": "code",
   "execution_count": 82,
   "metadata": {
    "collapsed": false,
    "deletable": true,
    "editable": true
   },
   "outputs": [],
   "source": [
    "from urllib.request import urlopen\n",
    "from bs4 import BeautifulSoup\n",
    "\n",
    "from nltk.tokenize import word_tokenize, sent_tokenize\n",
    "from nltk.corpus import stopwords\n",
    "from string import punctuation\n",
    "from heapq import nlargest\n",
    "from nltk.probability import FreqDist\n",
    "from collections import defaultdict"
   ]
  },
  {
   "cell_type": "code",
   "execution_count": 83,
   "metadata": {
    "collapsed": false
   },
   "outputs": [],
   "source": [
    "def getTextFromKantipur(url):\n",
    "    page=urlopen(url).read().decode('utf8')\n",
    "    soup=BeautifulSoup(page, 'lxml')\n",
    "    mainDiv = soup.findAll('div',attrs={\"class\":\"content-wrapper\"})\n",
    "    text=' '.join(map(lambda p: p.text, mainDiv[0].find_all('p')))\n",
    "    return text.encode('ascii', errors='replace').replace(b\"?\",b\" \")"
   ]
  },
  {
   "cell_type": "markdown",
   "metadata": {},
   "source": [
    "Summerize"
   ]
  },
  {
   "cell_type": "code",
   "execution_count": 84,
   "metadata": {
    "collapsed": false
   },
   "outputs": [],
   "source": [
    "def SummerizeKantipurArticle(textDecoded, n):\n",
    "    text=textString=str(textDecoded, 'utf8')\n",
    "    words_in_string=word_tokenize(text.lower())\n",
    "    _stopwords=set(stopwords.words('english')+list(punctuation))\n",
    "    words_without_stopwords=[w for w in words_in_string if w not in _stopwords]\n",
    "    freq=FreqDist(words_without_stopwords)\n",
    "    sentences=sent_tokenize(text)\n",
    "    ranking=defaultdict(int)\n",
    "    for i,sent in enumerate(sentences):\n",
    "        for w in word_tokenize(sent.lower()):\n",
    "            if w in freq:\n",
    "                ranking[i]+=freq[w]\n",
    "    sent_idx=nlargest(5, ranking, key=ranking.get)\n",
    "    return [sentences[j] for j in sorted(sent_idx)]"
   ]
  },
  {
   "cell_type": "code",
   "execution_count": 91,
   "metadata": {
    "collapsed": true
   },
   "outputs": [],
   "source": [
    "mountain=getTextFromKantipur(\"http://kathmandupost.ekantipur.com/news/2017-05-22/mt-everest-claims-4th-victim-this-year.html\")"
   ]
  },
  {
   "cell_type": "code",
   "execution_count": 92,
   "metadata": {
    "collapsed": false
   },
   "outputs": [
    {
     "data": {
      "text/plain": [
       "b'May 22, 2017- Mt Everest has claimed its fourth victim in 22 days after two mountaineers an American and a Slovakian died near the summit of the world s tallest peak on Sunday.  Meanwhile, a 27-year-old Indian climber Ravi Kumar has been missing from so called  balcony  (8,400 metre), near the summit, since Saturday after his successful ascent of Mt Everest. The chances of his survival are slim, as over 24 hours have elapsed since he went missing in the extreme climate, mountaineering officials said.  With this death toll, 45 people have lost their lives on Mt Everest in the last four years.    The 50-year-old American physician, Roland Yearwood, died at  balcony  (8,400 metres) on Sunday, said Gyanendra Shrestha, an official of the Tourism Ministry.  He was a part of the 15-member team of SummitClimb Everest Expedition 2017 led by Daniel Lee Mazur.   The 49-year-old Slovakian solo climber Vladimir Strba died at Camp IV on Sunday afternoon. Strba, holder of passport No.BA8369477, had sustained serious injuries due to frostbite.    The reason for Yearwood s death is yet to be confirmed,  he said. However, initial report suggests he may have suffered altitude sickness also known as acute mountain sickness (AMS) a pathological effect of high altitude on humans caused by acute exposure to low partial pressure of oxygen at high altitude.  Yearwood, holding passport No. 552705032, had returned to Nepal after an earthquake-triggered avalanche on April 25, 2015 prevented him from climbing the mountain.  His body which has been left stranded at 8,400 metres is difficult to bring down.   The issue is complicated. It s too much risk to bring his body down. It s extremely difficult and dangerous,  said Murari Krishna Sharma, managing director of Everest Parivar Expedition, the agency that handled Yearwood s expedition.   However, we will consult with his family members and high-altitude guides to assess whether we can take a risk.    Given the risks involved in spending so much time at high altitudes, many climbing teams decide not to bring down the dead bodies. Nearly 300 people have died on Mt Everest since the first ascent to the peak was made in 1953.   It is estimated that more than 200 dead bodies are still lying on the mountain.   Meanwhile, whereabouts of Indian climber Kumar is unknown.  Search and rescue efforts are underway,  said Chowang Sherpa, managing director of Arun Treks and Expedition, the handling agency of Kumar s expedition.  It was a wrong timing. The expedition began late and the Indian climber with his Sherpa guide reached the summit at 1:28pm on Saturday.  He said the Indian climber had forced the guide to push for summit even though it was not the appropriate time for climbing.    We had clearly directed our guides to return if they were unable to reach the summit before 11am,  said Chowang.  Lack of oxygen coupled with extreme  temperatures and weather later in the afternoon creates a greater risk of death on the mountain.   According to Chowang, the Indian climber had collapsed at 8pm due to low level of energy and oxygen when they were descending from the summit. The Sherpa guide then left the Indian climber at the balcony with supplementary oxygen after he failed to walk. The guide then descended to Camp IV to send a rescue team as he suffered multiple injuries due to frostbite and snow blindness.  But when three high-altitude guides reached the place, they didn t find the Indian there, said Chowang.  The climbers, who descended, did not see him as well,  he informed, adding that he might have slipped from the location where he was taking a rest.  We will be sending four rescue guides on Monday as well, but his chances of survival are very thin on such extreme climate.     This year s climbing season has already been marred by four deaths. The 85-year-old Nepali, Min Bahadur Sherchan, and experienced Swiss climber Ueli Steck died during an acclimatisation climb. Last year, Everest had claimed six lives.   On April 18, 2014, there was an avalanche near Everest Base Camp which killed 16 Nepali guides. Rescuers pulled out 13 bodies and the remaining three were never recovered, as search and rescue operations were called off due to adverse weather condition.  Then in 2015, quake-triggered avalanches killed 19 climbers.  70 reach Everest peak KATHMANDU: At least 70 climbers, including high-altitude climbing guides, successfully reached the world s tallest peak on Sunday morning, taking advantage of a good weather window. An equal number of Everest aspirants are waiting to climb the summit on Monday, government officials said. Since May 15, more than 150 individuals have reached the summit.   According to the Tourism Department, 373 fee-paying climbers have received permits to make an attempt on the world s tallest peak this spring.   This is the highest number of climbing permits issued for Everest expedition during a single season. With each climber hiring at least one local climbing guide, the total number of climbers is likely to touch 800 this season. On May 15, the Gurkha Everest Expedition reached the top of Mt Everest, becoming the first to scale the world s tallest peak this year.  Published: 22-05-2017 08:31'"
      ]
     },
     "execution_count": 92,
     "metadata": {},
     "output_type": "execute_result"
    }
   ],
   "source": [
    "mountain"
   ]
  },
  {
   "cell_type": "code",
   "execution_count": 93,
   "metadata": {
    "collapsed": true
   },
   "outputs": [],
   "source": [
    "summerizedArticle=SummerizeKantipurArticle(mountain, 4)"
   ]
  },
  {
   "cell_type": "code",
   "execution_count": 94,
   "metadata": {
    "collapsed": false
   },
   "outputs": [
    {
     "data": {
      "text/plain": [
       "['May 22, 2017- Mt Everest has claimed its fourth victim in 22 days after two mountaineers an American and a Slovakian died near the summit of the world s tallest peak on Sunday.',\n",
       " 'Meanwhile, a 27-year-old Indian climber Ravi Kumar has been missing from so called  balcony  (8,400 metre), near the summit, since Saturday after his successful ascent of Mt Everest.',\n",
       " 'It s extremely difficult and dangerous,  said Murari Krishna Sharma, managing director of Everest Parivar Expedition, the agency that handled Yearwood s expedition.',\n",
       " '70 reach Everest peak KATHMANDU: At least 70 climbers, including high-altitude climbing guides, successfully reached the world s tallest peak on Sunday morning, taking advantage of a good weather window.',\n",
       " 'On May 15, the Gurkha Everest Expedition reached the top of Mt Everest, becoming the first to scale the world s tallest peak this year.']"
      ]
     },
     "execution_count": 94,
     "metadata": {},
     "output_type": "execute_result"
    }
   ],
   "source": [
    "summerizedArticle"
   ]
  },
  {
   "cell_type": "code",
   "execution_count": null,
   "metadata": {
    "collapsed": true
   },
   "outputs": [],
   "source": []
  }
 ],
 "metadata": {
  "kernelspec": {
   "display_name": "Python 3",
   "language": "python",
   "name": "python3"
  },
  "language_info": {
   "codemirror_mode": {
    "name": "ipython",
    "version": 3
   },
   "file_extension": ".py",
   "mimetype": "text/x-python",
   "name": "python",
   "nbconvert_exporter": "python",
   "pygments_lexer": "ipython3",
   "version": "3.5.3"
  }
 },
 "nbformat": 4,
 "nbformat_minor": 2
}
