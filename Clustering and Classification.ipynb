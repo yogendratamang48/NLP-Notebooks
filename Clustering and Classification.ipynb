{
 "cells": [
  {
   "cell_type": "code",
   "execution_count": 19,
   "metadata": {
    "collapsed": false
   },
   "outputs": [],
   "source": [
    "import urllib.request\n",
    "from bs4 import BeautifulSoup\n",
    "\n",
    "def GetAllDoxyDonkeyPosts(url, links):\n",
    "    request=urllib.request.Request(url)\n",
    "    response=urllib.request.urlopen(request)\n",
    "\n",
    "    soup=BeautifulSoup(response)\n",
    "    for a in soup.findAll('a'):\n",
    "        try:\n",
    "            url=a['href']\n",
    "            title=a['title']\n",
    "            if title ==\"Older Posts\":\n",
    "                print(title, url)\n",
    "                links.append(url)\n",
    "                GetAllDoxyDonkeyPosts(url, links)\n",
    "        except:\n",
    "            title=\"\"\n",
    "    return"
   ]
  },
  {
   "cell_type": "code",
   "execution_count": 20,
   "metadata": {
    "collapsed": false
   },
   "outputs": [
    {
     "name": "stderr",
     "output_type": "stream",
     "text": [
      "c:\\python35\\lib\\site-packages\\bs4\\__init__.py:181: UserWarning: No parser was explicitly specified, so I'm using the best available HTML parser for this system (\"lxml\"). This usually isn't a problem, but if you run this code on another system, or in a different virtual environment, it may use a different parser and behave differently.\n",
      "\n",
      "The code that caused this warning is on line 193 of the file c:\\python35\\lib\\runpy.py. To get rid of this warning, change code that looks like this:\n",
      "\n",
      " BeautifulSoup(YOUR_MARKUP})\n",
      "\n",
      "to this:\n",
      "\n",
      " BeautifulSoup(YOUR_MARKUP, \"lxml\")\n",
      "\n",
      "  markup_type=markup_type))\n"
     ]
    },
    {
     "name": "stdout",
     "output_type": "stream",
     "text": [
      "Older Posts http://doxydonkey.blogspot.in/search?updated-max=2017-05-02T19:43:00-07:00&max-results=7\n",
      "Older Posts http://doxydonkey.blogspot.in/search?updated-max=2017-04-17T19:26:00-07:00&max-results=7&start=7&by-date=false\n",
      "Older Posts http://doxydonkey.blogspot.in/search?updated-max=2017-04-10T18:56:00-07:00&max-results=7&start=14&by-date=false\n",
      "Older Posts http://doxydonkey.blogspot.in/search?updated-max=2017-03-30T19:57:00-07:00&max-results=7&start=21&by-date=false\n",
      "Older Posts http://doxydonkey.blogspot.in/search?updated-max=2017-03-20T19:47:00-07:00&max-results=7&start=28&by-date=false\n",
      "Older Posts http://doxydonkey.blogspot.in/search?updated-max=2017-03-02T17:42:00-08:00&max-results=7&start=35&by-date=false\n",
      "Older Posts http://doxydonkey.blogspot.in/search?updated-max=2017-02-21T19:13:00-08:00&max-results=7&start=42&by-date=false\n",
      "Older Posts http://doxydonkey.blogspot.in/search?updated-max=2017-02-12T18:34:00-08:00&max-results=7&start=49&by-date=false\n",
      "Older Posts http://doxydonkey.blogspot.in/search?updated-max=2017-02-01T18:56:00-08:00&max-results=7&start=56&by-date=false\n",
      "Older Posts http://doxydonkey.blogspot.in/search?updated-max=2017-01-22T18:58:00-08:00&max-results=7&start=63&by-date=false\n",
      "Older Posts http://doxydonkey.blogspot.in/search?updated-max=2017-01-11T18:09:00-08:00&max-results=7&start=70&by-date=false\n",
      "Older Posts http://doxydonkey.blogspot.in/search?updated-max=2017-01-02T17:59:00-08:00&max-results=7&start=77&by-date=false\n",
      "Older Posts http://doxydonkey.blogspot.in/search?updated-max=2016-12-22T18:58:00-08:00&max-results=7&start=84&by-date=false\n",
      "Older Posts http://doxydonkey.blogspot.in/search?updated-max=2016-12-13T18:57:00-08:00&max-results=7&start=91&by-date=false\n",
      "Older Posts http://doxydonkey.blogspot.in/search?updated-max=2016-12-04T18:58:00-08:00&max-results=7&start=98&by-date=false\n",
      "Older Posts http://doxydonkey.blogspot.in/search?updated-max=2016-09-09T07:34:00-07:00&max-results=7&start=105&by-date=false\n",
      "Older Posts http://doxydonkey.blogspot.in/search?updated-max=2016-08-28T20:08:00-07:00&max-results=7&start=112&by-date=false\n",
      "Older Posts http://doxydonkey.blogspot.in/search?updated-max=2016-08-17T19:24:00-07:00&max-results=7&start=119&by-date=false\n",
      "Older Posts http://doxydonkey.blogspot.in/search?updated-max=2016-08-07T20:30:00-07:00&max-results=7&start=126&by-date=false\n",
      "Older Posts http://doxydonkey.blogspot.in/search?updated-max=2016-07-26T19:55:00-07:00&max-results=7&start=133&by-date=false\n",
      "Older Posts http://doxydonkey.blogspot.in/search?updated-max=2016-07-17T19:47:00-07:00&max-results=7&start=140&by-date=false\n",
      "Older Posts http://doxydonkey.blogspot.in/search?updated-max=2016-07-06T19:34:00-07:00&max-results=7&start=147&by-date=false\n",
      "Older Posts http://doxydonkey.blogspot.in/search?updated-max=2016-06-26T19:36:00-07:00&max-results=7&start=154&by-date=false\n",
      "Older Posts http://doxydonkey.blogspot.in/search?updated-max=2016-06-15T19:23:00-07:00&max-results=7&start=161&by-date=false\n",
      "Older Posts http://doxydonkey.blogspot.in/search?updated-max=2016-06-06T18:50:00-07:00&max-results=7&start=168&by-date=false\n",
      "Older Posts http://doxydonkey.blogspot.in/search?updated-max=2016-05-26T20:08:00-07:00&max-results=7&start=175&by-date=false\n",
      "Older Posts http://doxydonkey.blogspot.in/search?updated-max=2016-05-17T18:52:00-07:00&max-results=7&start=182&by-date=false\n",
      "Older Posts http://doxydonkey.blogspot.in/search?updated-max=2016-05-06T19:26:00-07:00&max-results=7&start=189&by-date=false\n",
      "Older Posts http://doxydonkey.blogspot.in/search?updated-max=2016-04-27T19:03:00-07:00&max-results=7&start=196&by-date=false\n",
      "Older Posts http://doxydonkey.blogspot.in/search?updated-max=2016-04-19T19:36:00-07:00&max-results=7&start=203&by-date=false\n",
      "Older Posts http://doxydonkey.blogspot.in/search?updated-max=2016-04-10T19:19:00-07:00&max-results=7&start=210&by-date=false\n",
      "Older Posts http://doxydonkey.blogspot.in/search?updated-max=2016-03-30T19:12:00-07:00&max-results=7&start=217&by-date=false\n",
      "Older Posts http://doxydonkey.blogspot.in/search?updated-max=2016-03-20T18:41:00-07:00&max-results=7&start=224&by-date=false\n",
      "Older Posts http://doxydonkey.blogspot.in/search?updated-max=2016-03-09T18:38:00-08:00&max-results=7&start=231&by-date=false\n",
      "Older Posts http://doxydonkey.blogspot.in/search?updated-max=2016-02-28T17:47:00-08:00&max-results=7&start=238&by-date=false\n",
      "Older Posts http://doxydonkey.blogspot.in/search?updated-max=2016-02-17T18:44:00-08:00&max-results=7&start=245&by-date=false\n",
      "Older Posts http://doxydonkey.blogspot.in/search?updated-max=2016-02-08T18:13:00-08:00&max-results=7&start=252&by-date=false\n",
      "Older Posts http://doxydonkey.blogspot.in/search?updated-max=2016-01-28T19:45:00-08:00&max-results=7&start=259&by-date=false\n",
      "Older Posts http://doxydonkey.blogspot.in/search?updated-max=2016-01-18T18:30:00-08:00&max-results=7&start=266&by-date=false\n",
      "Older Posts http://doxydonkey.blogspot.in/search?updated-max=2016-01-07T19:03:00-08:00&max-results=7&start=273&by-date=false\n",
      "Older Posts http://doxydonkey.blogspot.in/search?updated-max=2015-12-28T18:26:00-08:00&max-results=7&start=280&by-date=false\n",
      "Older Posts http://doxydonkey.blogspot.in/search?updated-max=2015-12-16T18:24:00-08:00&max-results=7&start=287&by-date=false\n",
      "Older Posts http://doxydonkey.blogspot.in/search?updated-max=2015-12-07T18:24:00-08:00&max-results=7&start=294&by-date=false\n",
      "Older Posts http://doxydonkey.blogspot.in/search?updated-max=2015-11-26T17:49:00-08:00&max-results=7&start=301&by-date=false\n",
      "Older Posts http://doxydonkey.blogspot.in/search?updated-max=2015-11-17T18:18:00-08:00&max-results=7&start=308&by-date=false\n",
      "Older Posts http://doxydonkey.blogspot.in/search?updated-max=2015-11-05T20:15:00-08:00&max-results=7&start=315&by-date=false\n",
      "Older Posts http://doxydonkey.blogspot.in/search?updated-max=2015-10-27T20:04:00-07:00&max-results=7&start=322&by-date=false\n",
      "Older Posts http://doxydonkey.blogspot.in/search?updated-max=2015-10-12T19:45:00-07:00&max-results=7&start=329&by-date=false\n",
      "Older Posts http://doxydonkey.blogspot.in/search?updated-max=2015-09-30T19:33:00-07:00&max-results=7&start=336&by-date=false\n",
      "Older Posts http://doxydonkey.blogspot.in/search?updated-max=2015-09-20T19:11:00-07:00&max-results=7&start=343&by-date=false\n",
      "Older Posts http://doxydonkey.blogspot.in/search?updated-max=2015-09-09T19:32:00-07:00&max-results=7&start=350&by-date=false\n",
      "Older Posts http://doxydonkey.blogspot.in/search?updated-max=2015-08-31T19:31:00-07:00&max-results=7&start=357&by-date=false\n",
      "Older Posts http://doxydonkey.blogspot.in/search?updated-max=2015-08-20T19:29:00-07:00&max-results=7&start=364&by-date=false\n",
      "Older Posts http://doxydonkey.blogspot.in/search?updated-max=2015-08-11T19:32:00-07:00&max-results=7&start=371&by-date=false\n",
      "Older Posts http://doxydonkey.blogspot.in/search?updated-max=2015-08-02T19:04:00-07:00&max-results=7&start=378&by-date=false\n",
      "Older Posts http://doxydonkey.blogspot.in/search?updated-max=2015-07-22T19:39:00-07:00&max-results=7&start=385&by-date=false\n",
      "Older Posts http://doxydonkey.blogspot.in/search?updated-max=2015-07-13T19:38:00-07:00&max-results=7&start=392&by-date=false\n",
      "Older Posts http://doxydonkey.blogspot.in/search?updated-max=2015-07-02T21:15:00-07:00&max-results=7&start=399&by-date=false\n",
      "Older Posts http://doxydonkey.blogspot.in/search?updated-max=2015-06-23T19:30:00-07:00&max-results=7&start=406&by-date=false\n",
      "Older Posts http://doxydonkey.blogspot.in/search?updated-max=2015-06-14T19:36:00-07:00&max-results=7&start=413&by-date=false\n",
      "Older Posts http://doxydonkey.blogspot.in/search?updated-max=2015-06-02T19:38:00-07:00&max-results=7&start=420&by-date=false\n",
      "Older Posts http://doxydonkey.blogspot.in/search?updated-max=2015-05-24T20:16:00-07:00&max-results=7&start=427&by-date=false\n",
      "Older Posts http://doxydonkey.blogspot.in/search?updated-max=2015-05-13T20:18:00-07:00&max-results=7&start=434&by-date=false\n",
      "Older Posts http://doxydonkey.blogspot.in/search?updated-max=2015-05-04T20:23:00-07:00&max-results=7&start=441&by-date=false\n",
      "Older Posts http://doxydonkey.blogspot.in/search?updated-max=2015-04-23T20:19:00-07:00&max-results=7&start=448&by-date=false\n",
      "Older Posts http://doxydonkey.blogspot.in/search?updated-max=2015-04-14T19:40:00-07:00&max-results=7&start=455&by-date=false\n",
      "Older Posts http://doxydonkey.blogspot.in/search?updated-max=2015-04-05T20:22:00-07:00&max-results=7&start=462&by-date=false\n",
      "Older Posts http://doxydonkey.blogspot.in/search?updated-max=2015-03-24T20:12:00-07:00&max-results=7&start=469&by-date=false\n",
      "Older Posts http://doxydonkey.blogspot.in/search?updated-max=2015-03-15T20:41:00-07:00&max-results=7&start=476&by-date=false\n",
      "Older Posts http://doxydonkey.blogspot.in/search?updated-max=2015-03-03T19:30:00-08:00&max-results=7&start=483&by-date=false\n",
      "Older Posts http://doxydonkey.blogspot.in/search?updated-max=2015-02-22T19:55:00-08:00&max-results=7&start=490&by-date=false\n",
      "Older Posts http://doxydonkey.blogspot.in/search?updated-max=2015-02-11T20:02:00-08:00&max-results=7&start=497&by-date=false\n",
      "Older Posts http://doxydonkey.blogspot.in/search?updated-max=2015-02-02T19:46:00-08:00&max-results=7&start=504&by-date=false\n",
      "Older Posts http://doxydonkey.blogspot.in/search?updated-max=2015-01-22T19:50:00-08:00&max-results=7&start=510&by-date=false\n",
      "Older Posts http://doxydonkey.blogspot.in/search?updated-max=2015-01-15T19:17:00-08:00&max-results=7&start=515&by-date=false\n",
      "Older Posts http://doxydonkey.blogspot.in/search?updated-max=2015-01-06T19:48:00-08:00&max-results=7&start=522&by-date=false\n",
      "Older Posts http://doxydonkey.blogspot.in/search?updated-max=2014-12-25T21:30:00-08:00&max-results=7&start=529&by-date=false\n",
      "Older Posts http://doxydonkey.blogspot.in/search?updated-max=2014-12-15T19:24:00-08:00&max-results=7&start=536&by-date=false\n",
      "Older Posts http://doxydonkey.blogspot.in/search?updated-max=2014-12-05T01:52:00-08:00&max-results=7&start=543&by-date=false\n",
      "Older Posts http://doxydonkey.blogspot.in/search?updated-max=2014-11-26T01:44:00-08:00&max-results=7&start=550&by-date=false\n",
      "Older Posts http://doxydonkey.blogspot.in/search?updated-max=2014-11-17T01:41:00-08:00&max-results=7&start=557&by-date=false\n",
      "Older Posts http://doxydonkey.blogspot.in/search?updated-max=2014-11-06T01:38:00-08:00&max-results=7&start=564&by-date=false\n",
      "Older Posts http://doxydonkey.blogspot.in/search?updated-max=2014-10-28T01:24:00-07:00&max-results=7&start=571&by-date=false\n",
      "Older Posts http://doxydonkey.blogspot.in/search?updated-max=2014-10-17T01:20:00-07:00&max-results=7&start=578&by-date=false\n"
     ]
    }
   ],
   "source": [
    "blogUrl=\"http://doxydonkey.blogspot.in\"\n",
    "links=[]\n",
    "GetAllDoxyDonkeyPosts(blogUrl, links)"
   ]
  },
  {
   "cell_type": "code",
   "execution_count": 30,
   "metadata": {
    "collapsed": false
   },
   "outputs": [],
   "source": [
    "def GetDoxyDonkeyText(testUrl):\n",
    "    request=urllib.request.Request(testUrl)\n",
    "    response=urllib.request.urlopen(request)\n",
    "    soup=BeautifulSoup(response, \"lxml\")\n",
    "    myDivs=soup.findAll(\"div\", {'class':'post-body'})\n",
    "    posts=[]\n",
    "    for div in myDivs:\n",
    "        posts+=map(lambda  p:p.text.encode('ascii', errors='replace').replace(b\"?\", b\" \"), div.findAll(\"li\"))\n",
    "    return posts"
   ]
  },
  {
   "cell_type": "code",
   "execution_count": 31,
   "metadata": {
    "collapsed": true
   },
   "outputs": [],
   "source": [
    "doxyDonkeyPosts=[]"
   ]
  },
  {
   "cell_type": "code",
   "execution_count": 33,
   "metadata": {
    "collapsed": false
   },
   "outputs": [],
   "source": [
    "for link in links:\n",
    "    doxyDonkeyPosts+=GetDoxyDonkeyText(link)"
   ]
  },
  {
   "cell_type": "code",
   "execution_count": 72,
   "metadata": {
    "collapsed": false
   },
   "outputs": [],
   "source": [
    "doxyDonkeyPostsString=[]\n",
    "for i, sent in enumerate(doxyDonkeyPosts):\n",
    "    doxyDonkeyPostsString.append(str(doxyDonkeyPosts[i], 'utf8'))"
   ]
  },
  {
   "cell_type": "code",
   "execution_count": 73,
   "metadata": {
    "collapsed": false
   },
   "outputs": [
    {
     "data": {
      "text/plain": [
       "'Why did ESPN let go of 100 of its writers, reporters and on-air staff today  The programmer, which has around 8,000 employees, says it s making the moves as it adapts its mix of TV and digital programming to the Twitter/Facebook/Snapchat age. Its content costs are rising as it pays ever-increasing fees for rights to show college and pro sports. But its subscriber base is shrinking as pay TV customers cut the cord or never sign up for it in the first place. The short version of his answer: ESPN thinks it will continue to grow its subscriber revenue by charging its remaining subscribers (via pay TV distributors) more for the service, and that it can keep growing ad rates, too. But ESPN can t simply grow its way out of this problem. It will have to cut costs, too.'"
      ]
     },
     "execution_count": 73,
     "metadata": {},
     "output_type": "execute_result"
    }
   ],
   "source": [
    "doxyDonkeyPostsString[0]"
   ]
  },
  {
   "cell_type": "code",
   "execution_count": 82,
   "metadata": {
    "collapsed": false
   },
   "outputs": [],
   "source": [
    "from sklearn.feature_extraction.text import TfidfVectorizer"
   ]
  },
  {
   "cell_type": "code",
   "execution_count": 83,
   "metadata": {
    "collapsed": true
   },
   "outputs": [],
   "source": [
    "vectorizer=TfidfVectorizer(max_df=0.5, min_df=0.2, stop_words='english')"
   ]
  },
  {
   "cell_type": "code",
   "execution_count": 84,
   "metadata": {
    "collapsed": false
   },
   "outputs": [],
   "source": [
    "X=vectorizer.fit_transform(doxyDonkeyPostsString)"
   ]
  },
  {
   "cell_type": "code",
   "execution_count": 85,
   "metadata": {
    "collapsed": false
   },
   "outputs": [
    {
     "data": {
      "text/plain": [
       "<3528x26 sparse matrix of type '<class 'numpy.float64'>'\n",
       "\twith 25622 stored elements in Compressed Sparse Row format>"
      ]
     },
     "execution_count": 85,
     "metadata": {},
     "output_type": "execute_result"
    }
   ],
   "source": [
    "X"
   ]
  },
  {
   "cell_type": "code",
   "execution_count": 86,
   "metadata": {
    "collapsed": false
   },
   "outputs": [
    {
     "name": "stdout",
     "output_type": "stream",
     "text": [
      "  (0, 18)\t0.692788764518\n",
      "  (0, 20)\t0.7211405742\n"
     ]
    }
   ],
   "source": [
    "print(X[0])"
   ]
  },
  {
   "cell_type": "code",
   "execution_count": 88,
   "metadata": {
    "collapsed": false
   },
   "outputs": [],
   "source": [
    "from sklearn.cluster import KMeans"
   ]
  },
  {
   "cell_type": "code",
   "execution_count": 89,
   "metadata": {
    "collapsed": true
   },
   "outputs": [],
   "source": [
    "kmean=KMeans(n_clusters=3, init='k-means++', n_init=1, max_iter=300, verbose=True)"
   ]
  },
  {
   "cell_type": "code",
   "execution_count": 90,
   "metadata": {
    "collapsed": false
   },
   "outputs": [
    {
     "name": "stdout",
     "output_type": "stream",
     "text": [
      "Initialization complete\n",
      "Iteration  0, inertia 4030.774\n",
      "Iteration  1, inertia 2437.891\n",
      "Iteration  2, inertia 2397.577\n",
      "Iteration  3, inertia 2385.961\n",
      "Iteration  4, inertia 2379.547\n",
      "Iteration  5, inertia 2376.665\n",
      "Iteration  6, inertia 2375.543\n",
      "Iteration  7, inertia 2374.633\n",
      "Iteration  8, inertia 2373.887\n",
      "Iteration  9, inertia 2373.564\n",
      "Iteration 10, inertia 2373.233\n",
      "Iteration 11, inertia 2373.031\n",
      "Iteration 12, inertia 2372.884\n",
      "Iteration 13, inertia 2372.737\n",
      "Iteration 14, inertia 2372.524\n",
      "Iteration 15, inertia 2372.358\n",
      "Iteration 16, inertia 2372.255\n",
      "Iteration 17, inertia 2372.172\n",
      "Iteration 18, inertia 2372.119\n",
      "Iteration 19, inertia 2372.104\n",
      "Converged at iteration 19: center shift 2.524785e-06 within tolerance 2.916244e-06\n"
     ]
    },
    {
     "data": {
      "text/plain": [
       "KMeans(algorithm='auto', copy_x=True, init='k-means++', max_iter=300,\n",
       "    n_clusters=3, n_init=1, n_jobs=1, precompute_distances='auto',\n",
       "    random_state=None, tol=0.0001, verbose=True)"
      ]
     },
     "execution_count": 90,
     "metadata": {},
     "output_type": "execute_result"
    }
   ],
   "source": [
    "kmean.fit(X)"
   ]
  },
  {
   "cell_type": "code",
   "execution_count": 91,
   "metadata": {
    "collapsed": false
   },
   "outputs": [
    {
     "data": {
      "text/plain": [
       "(array([0, 1, 2]), array([1306, 1159, 1063], dtype=int64))"
      ]
     },
     "execution_count": 91,
     "metadata": {},
     "output_type": "execute_result"
    }
   ],
   "source": [
    "import numpy as np\n",
    "np.unique(kmean.labels_, return_counts=True)"
   ]
  },
  {
   "cell_type": "code",
   "execution_count": 94,
   "metadata": {
    "collapsed": false
   },
   "outputs": [
    {
     "data": {
      "text/plain": [
       "3528"
      ]
     },
     "execution_count": 94,
     "metadata": {},
     "output_type": "execute_result"
    }
   ],
   "source": [
    "len(kmean.labels_)"
   ]
  },
  {
   "cell_type": "code",
   "execution_count": 97,
   "metadata": {
    "collapsed": false
   },
   "outputs": [],
   "source": [
    "text={}\n",
    "for i, cluster in enumerate(kmean.labels_):\n",
    "    oneDocument=doxyDonkeyPostsString[i]\n",
    "    if cluster not in text.keys():\n",
    "        text[cluster]=oneDocument\n",
    "    else:\n",
    "        text[cluster]+=oneDocument"
   ]
  },
  {
   "cell_type": "code",
   "execution_count": 98,
   "metadata": {
    "collapsed": true
   },
   "outputs": [],
   "source": [
    "from nltk.tokenize import sent_tokenize, word_tokenize\n",
    "from nltk.corpus import stopwords\n",
    "from nltk.probability import FreqDist\n",
    "from collections import defaultdict\n",
    "from string import punctuation\n",
    "from heapq import nlargest\n",
    "import nltk "
   ]
  },
  {
   "cell_type": "code",
   "execution_count": 100,
   "metadata": {
    "collapsed": true
   },
   "outputs": [],
   "source": [
    "_stopwords = set(stopwords.words('english') + list(punctuation)+[\"million\",\"billion\",\"year\",\"millions\",\"billions\",\"y/y\",\"'s\",\"''\",\"``\"])"
   ]
  },
  {
   "cell_type": "code",
   "execution_count": 101,
   "metadata": {
    "collapsed": false
   },
   "outputs": [],
   "source": [
    "keywords={}\n",
    "counts={}\n",
    "for cluster in range(3):\n",
    "    word_sent=word_tokenize(text[cluster].lower())\n",
    "    word_sent=[word for word in word_sent if word not in _stopwords]\n",
    "    freq=FreqDist(word_sent)\n",
    "    keywords[cluster]=nlargest(100, freq, key=freq.get)\n",
    "    counts[cluster]=freq"
   ]
  },
  {
   "cell_type": "code",
   "execution_count": 103,
   "metadata": {
    "collapsed": false
   },
   "outputs": [],
   "source": [
    "uniqe_keys={}\n",
    "for cluster in range(3):\n",
    "    other_clusters=list(set(range(3))-set([cluster]))\n",
    "    key_other_clusters=set(keywords[other_clusters[0]]).union(set(keywords[other_clusters[1]]))\n",
    "    unique=set(keywords[cluster])-key_other_clusters\n",
    "    uniqe_keys[cluster]=nlargest(10, unique,key=counts[cluster].get)"
   ]
  },
  {
   "cell_type": "code",
   "execution_count": 105,
   "metadata": {
    "collapsed": false
   },
   "outputs": [
    {
     "name": "stdout",
     "output_type": "stream",
     "text": [
      "{0: ['revenue', 'quarter', 'share', 'profit', 'rose', 'analysts', 'per', 'reported', '1', 'earnings'], 1: ['mr.', 'industry', 'work', 'car', 'part', 'next', 'venture', 'cars', 'well', 'take'], 2: ['ads', 'apps', 'social', 'ad', 'search', 'user', 'snapchat', 'platform', 'using', 'news']}\n"
     ]
    }
   ],
   "source": [
    "print(uniqe_keys)"
   ]
  },
  {
   "cell_type": "code",
   "execution_count": 118,
   "metadata": {
    "collapsed": false
   },
   "outputs": [],
   "source": [
    "newArticle=\"Amazon.com Inc launched Echo Show, a touchscreen device that will allow users to video call and watch clips from CNN, the latest in the company's series of popular Echo voice-controlled speakers. The device, which will go on sale in June for about $230, will feature Alexa, Amazon's voice-controlled aide, that can be used to play music, order an Uber or turn on the house lights. Echo Show will allow video conferencing between users having an Echo device or the Alexa app. It is the first to support the feature, which is absent in similar devices offered by rivals such as Alphabet Inc's unit Google.\""
   ]
  },
  {
   "cell_type": "code",
   "execution_count": 107,
   "metadata": {
    "collapsed": true
   },
   "outputs": [],
   "source": [
    "from sklearn.neighbors import KNeighborsClassifier"
   ]
  },
  {
   "cell_type": "code",
   "execution_count": 108,
   "metadata": {
    "collapsed": true
   },
   "outputs": [],
   "source": [
    "classifier=KNeighborsClassifier()"
   ]
  },
  {
   "cell_type": "code",
   "execution_count": 109,
   "metadata": {
    "collapsed": false
   },
   "outputs": [
    {
     "data": {
      "text/plain": [
       "KNeighborsClassifier(algorithm='auto', leaf_size=30, metric='minkowski',\n",
       "           metric_params=None, n_jobs=1, n_neighbors=5, p=2,\n",
       "           weights='uniform')"
      ]
     },
     "execution_count": 109,
     "metadata": {},
     "output_type": "execute_result"
    }
   ],
   "source": [
    "classifier.fit(X, kmean.labels_)"
   ]
  },
  {
   "cell_type": "code",
   "execution_count": 119,
   "metadata": {
    "collapsed": false
   },
   "outputs": [],
   "source": [
    "test=vectorizer.transform([newArticle.encode('ascii',errors='ignore')])"
   ]
  },
  {
   "cell_type": "code",
   "execution_count": 120,
   "metadata": {
    "collapsed": false
   },
   "outputs": [
    {
     "data": {
      "text/plain": [
       "array([2])"
      ]
     },
     "execution_count": 120,
     "metadata": {},
     "output_type": "execute_result"
    }
   ],
   "source": [
    "classifier.predict(test)"
   ]
  },
  {
   "cell_type": "code",
   "execution_count": null,
   "metadata": {
    "collapsed": true
   },
   "outputs": [],
   "source": []
  },
  {
   "cell_type": "code",
   "execution_count": null,
   "metadata": {
    "collapsed": true
   },
   "outputs": [],
   "source": []
  }
 ],
 "metadata": {
  "kernelspec": {
   "display_name": "Python 3",
   "language": "python",
   "name": "python3"
  },
  "language_info": {
   "codemirror_mode": {
    "name": "ipython",
    "version": 3
   },
   "file_extension": ".py",
   "mimetype": "text/x-python",
   "name": "python",
   "nbconvert_exporter": "python",
   "pygments_lexer": "ipython3",
   "version": "3.5.3"
  }
 },
 "nbformat": 4,
 "nbformat_minor": 2
}
